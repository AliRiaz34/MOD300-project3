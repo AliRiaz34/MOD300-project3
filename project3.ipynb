{
 "cells": [
  {
   "cell_type": "markdown",
   "id": "cf47e66c",
   "metadata": {},
   "source": [
    "# Calculate DNA volume via Monte Carlo simulation.\n",
    "\n",
    "**Ali Akbar Riaz, Erik Jing Wei Feng, Abdul Rahman**\n",
    "\n",
    "Deadline: **Nov 9, 2025**"
   ]
  },
  {
   "cell_type": "markdown",
   "id": "6c46c311",
   "metadata": {},
   "source": [
    "<h1>Abstract</h1>"
   ]
  },
  {
   "cell_type": "markdown",
   "id": "86e4cbc0",
   "metadata": {},
   "source": [
    "<h1>Introduction</h1>\n"
   ]
  }
 ],
 "metadata": {
  "language_info": {
   "name": "python"
  }
 },
 "nbformat": 4,
 "nbformat_minor": 5
}
