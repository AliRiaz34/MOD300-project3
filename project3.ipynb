{
 "cells": [
  {
   "cell_type": "markdown",
   "id": "cf47e66c",
   "metadata": {},
   "source": [
    "# Calculate DNA volume via Monte Carlo simulation.\n",
    "\n",
    "**Ali Akbar Riaz, Erik Jing Wei Feng, Abdul Rahman**\n",
    "\n",
    "Deadline: **Nov 9, 2025**"
   ]
  },
  {
   "cell_type": "markdown",
   "id": "6c46c311",
   "metadata": {},
   "source": [
    "<h1>Abstract</h1>"
   ]
  },
  {
   "cell_type": "markdown",
   "id": "86e4cbc0",
   "metadata": {},
   "source": [
    "<h1>Introduction</h1>"
   ]
  },
  {
   "cell_type": "code",
   "execution_count": null,
   "id": "e362da7e",
   "metadata": {},
   "outputs": [],
   "source": [
    "import numpy as np\n",
    "import matplotlib.pyplot as plt\n",
    "import random"
   ]
  },
  {
   "cell_type": "markdown",
   "id": "8f1f2532",
   "metadata": {},
   "source": [
    "## Task 0"
   ]
  },
  {
   "cell_type": "code",
   "execution_count": null,
   "id": "43f5897e",
   "metadata": {},
   "outputs": [],
   "source": [
    "#Unit is nm\n",
    "x_min, x_max = 0, 100\n",
    "y_min, y_max = 0, 100\n",
    "z_min, z_max = 0, 100"
   ]
  },
  {
   "cell_type": "markdown",
   "id": "1d354e5e",
   "metadata": {},
   "source": [
    "## Task 1"
   ]
  },
  {
   "cell_type": "code",
   "execution_count": null,
   "id": "4b29be42",
   "metadata": {},
   "outputs": [],
   "source": [
    "def random_point():    \n",
    "    \"\"\"\n",
    "    Gives random point within simulation box\n",
    "    \n",
    "    Outputs\n",
    "    -------\n",
    "    Array of [x, y, z]\n",
    "    \"\"\"\n",
    "    return [random.uniform(x_min, x_max), random.uniform(y_min, y_max), random.uniform(z_min, z_max),]"
   ]
  },
  {
   "cell_type": "markdown",
   "id": "c4e348d1",
   "metadata": {},
   "source": [
    "## Task 2"
   ]
  },
  {
   "cell_type": "code",
   "execution_count": null,
   "id": "781598e2",
   "metadata": {},
   "outputs": [],
   "source": [
    "def define_sphere():\n",
    "    \"\"\"\n",
    "    Defines a sphere with random point and random size. Can stick out.\n",
    "\n",
    "    Outputs\n",
    "    -------\n",
    "    Array of [x, y, z]\n",
    "    Radius a\n",
    "    \"\"\"\n",
    "    return (random_point, random.uniform(0, 10))"
   ]
  },
  {
   "cell_type": "markdown",
   "id": "abebf71d",
   "metadata": {},
   "source": [
    "## Task 3"
   ]
  },
  {
   "cell_type": "code",
   "execution_count": null,
   "id": "3aa1893b",
   "metadata": {},
   "outputs": [],
   "source": [
    "def is_inside_sphere(x, y, z, spherePosition, radius):\n",
    "    \"\"\"\n",
    "    Checks if a point is inside the sphere.\n",
    "    Inputs\n",
    "    -------\n",
    "    x: x coordinate\n",
    "    y: y coordinate\n",
    "    z: z coordinate\n",
    "    shperePosition: array of sphere center posititon\n",
    "    radius: radius of sphere \n",
    "\n",
    "    Outputs\n",
    "    -------\n",
    "    Boolean \n",
    "    \"\"\"\n",
    "    x_c, y_c, z_c = spherePosition\n",
    "    if ((x-x_c)**2 + (y-y_c)**2 + (z-z_c)**2) <= radius**2:\n",
    "        return True\n",
    "    else:\n",
    "        return False\n"
   ]
  }
 ],
 "metadata": {
  "kernelspec": {
   "display_name": "mod300",
   "language": "python",
   "name": "python3"
  },
  "language_info": {
   "name": "python",
   "version": "3.13.5"
  }
 },
 "nbformat": 4,
 "nbformat_minor": 5
}
